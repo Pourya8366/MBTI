{
  "cells": [
    {
      "cell_type": "markdown",
      "metadata": {
        "id": "p1MpIMrc_Eyh"
      },
      "source": [
        "# MBTI Prediction"
      ]
    },
    {
      "cell_type": "markdown",
      "metadata": {
        "id": "Px_TUbid_Eym"
      },
      "source": [
        "## Setup"
      ]
    },
    {
      "cell_type": "code",
      "execution_count": 1,
      "metadata": {
        "id": "eP1fGPC2_Eym"
      },
      "outputs": [],
      "source": [
        "import pandas as pd\n",
        "import numpy as np\n",
        "import matplotlib.pyplot as plt\n",
        "import nltk\n",
        "import string\n",
        "import re\n",
        "from sklearn.model_selection import train_test_split\n",
        "from sklearn.ensemble import RandomForestClassifier\n",
        "from sklearn.neighbors import KNeighborsClassifier\n",
        "from sklearn.neural_network import MLPClassifier\n",
        "from sklearn.linear_model import LogisticRegression\n",
        "from sklearn.naive_bayes import GaussianNB\n",
        "from sklearn.svm import SVC\n",
        "import warnings\n",
        "warnings.filterwarnings('ignore')\n",
        "import plotly.graph_objects as px\n",
        "from plotly import graph_objects as go"
      ]
    },
    {
      "cell_type": "markdown",
      "metadata": {
        "id": "UkG26XXg_Eyo"
      },
      "source": [
        "## Exploring the Data"
      ]
    },
    {
      "cell_type": "code",
      "execution_count": 2,
      "metadata": {
        "id": "Q0mnBDUf_Eyo",
        "outputId": "79a0a15e-c346-4bb4-ee36-4c3a1f18bc7a"
      },
      "outputs": [
        {
          "name": "stdout",
          "output_type": "stream",
          "text": [
            "<class 'pandas.core.frame.DataFrame'>\n",
            "RangeIndex: 8675 entries, 0 to 8674\n",
            "Data columns (total 2 columns):\n",
            " #   Column  Non-Null Count  Dtype \n",
            "---  ------  --------------  ----- \n",
            " 0   type    8675 non-null   object\n",
            " 1   posts   8675 non-null   object\n",
            "dtypes: object(2)\n",
            "memory usage: 135.7+ KB\n"
          ]
        },
        {
          "data": {
            "text/html": [
              "<div>\n",
              "<style scoped>\n",
              "    .dataframe tbody tr th:only-of-type {\n",
              "        vertical-align: middle;\n",
              "    }\n",
              "\n",
              "    .dataframe tbody tr th {\n",
              "        vertical-align: top;\n",
              "    }\n",
              "\n",
              "    .dataframe thead th {\n",
              "        text-align: right;\n",
              "    }\n",
              "</style>\n",
              "<table border=\"1\" class=\"dataframe\">\n",
              "  <thead>\n",
              "    <tr style=\"text-align: right;\">\n",
              "      <th></th>\n",
              "      <th>type</th>\n",
              "      <th>posts</th>\n",
              "    </tr>\n",
              "  </thead>\n",
              "  <tbody>\n",
              "    <tr>\n",
              "      <th>0</th>\n",
              "      <td>INFJ</td>\n",
              "      <td>'http://www.youtube.com/watch?v=qsXHcwe3krw|||...</td>\n",
              "    </tr>\n",
              "    <tr>\n",
              "      <th>1</th>\n",
              "      <td>ENTP</td>\n",
              "      <td>'I'm finding the lack of me in these posts ver...</td>\n",
              "    </tr>\n",
              "    <tr>\n",
              "      <th>2</th>\n",
              "      <td>INTP</td>\n",
              "      <td>'Good one  _____   https://www.youtube.com/wat...</td>\n",
              "    </tr>\n",
              "    <tr>\n",
              "      <th>3</th>\n",
              "      <td>INTJ</td>\n",
              "      <td>'Dear INTP,   I enjoyed our conversation the o...</td>\n",
              "    </tr>\n",
              "    <tr>\n",
              "      <th>4</th>\n",
              "      <td>ENTJ</td>\n",
              "      <td>'You're fired.|||That's another silly misconce...</td>\n",
              "    </tr>\n",
              "  </tbody>\n",
              "</table>\n",
              "</div>"
            ],
            "text/plain": [
              "   type                                              posts\n",
              "0  INFJ  'http://www.youtube.com/watch?v=qsXHcwe3krw|||...\n",
              "1  ENTP  'I'm finding the lack of me in these posts ver...\n",
              "2  INTP  'Good one  _____   https://www.youtube.com/wat...\n",
              "3  INTJ  'Dear INTP,   I enjoyed our conversation the o...\n",
              "4  ENTJ  'You're fired.|||That's another silly misconce..."
            ]
          },
          "execution_count": 2,
          "metadata": {},
          "output_type": "execute_result"
        }
      ],
      "source": [
        "data = pd.read_csv('mbti_1.csv')\n",
        "data.info()\n",
        "data.head()"
      ]
    },
    {
      "cell_type": "markdown",
      "metadata": {
        "id": "YMMTyxxg_Eyp"
      },
      "source": [
        "### Notes\n",
        " - There are 8675 records with no null value!"
      ]
    },
    {
      "cell_type": "markdown",
      "metadata": {
        "id": "9L38dufU_Eyp"
      },
      "source": [
        "## Initial Visualization"
      ]
    },
    {
      "cell_type": "code",
      "execution_count": 67,
      "metadata": {
        "id": "OVacC9sM_Eyp",
        "outputId": "b049509c-2a27-4505-ea0c-a502841b7db4"
      },
      "outputs": [
        {
          "data": {
            "text/plain": [
              "Text(0.5, 1.0, 'Total comments for each personality type')"
            ]
          },
          "execution_count": 67,
          "metadata": {},
          "output_type": "execute_result"
        },
        {
          "data": {
            "image/png": "[encoded data removed]",
            "text/plain": [
              "<Figure size 720x360 with 1 Axes>"
            ]
          },
          "metadata": {
            "needs_background": "light"
          },
          "output_type": "display_data"
        }
      ],
      "source": [
        "total_comments = data.groupby(['type']).count()*50\n",
        "\n",
        "plt.figure(figsize = (10,5))\n",
        "\n",
        "plt.bar(np.array(total_comments.index), height = total_comments['posts'],)\n",
        "plt.xlabel('Personality type', size = 14)\n",
        "plt.ylabel('Number of comments', size = 14)\n",
        "plt.title('Total comments for each personality type')"
      ]
    },
    {
      "cell_type": "markdown",
      "metadata": {
        "id": "s5I_ezeO_Eyq"
      },
      "source": [
        "### Notes\n",
        " - We see obvious difference in data available for some personality types\n",
        " - the difference between Max and Min is 46x!"
      ]
    },
    {
      "cell_type": "markdown",
      "metadata": {
        "id": "Vy6AlLpd_Eyq"
      },
      "source": [
        "# Preprocessing & Feature Engineering"
      ]
    },
    {
      "cell_type": "code",
      "execution_count": 4,
      "metadata": {
        "id": "00yUHifB_Eyq"
      },
      "outputs": [],
      "source": [
        "def normalise(comment):\n",
        "  comment = comment.replace('|||', '')\n",
        "  comment.lower()\n",
        "  comment = re.sub(r'http\\S+', '', comment) # removing links\n",
        "  comment = re.sub(r'\\S*@\\S*\\s?', '', comment) # removing emails\n",
        "  return(comment)\n",
        "\n",
        "# eliminate useless words with NLTK library\n",
        "def tokenize(comment):\n",
        "  ignoring = nltk.corpus.stopwords.words(\"english\") + [char for char in string.punctuation]\n",
        "  tokens = nltk.word_tokenize(comment)\n",
        "  tokens = [word for word in tokens if word not in ignoring]\n",
        "  posTags = nltk.pos_tag(tokens)\n",
        "  return posTags\n",
        "\n",
        "def numberOfNouns(posTags):\n",
        "  return len([word for word,pos in posTags if  'NN' in pos])\n",
        "\n",
        "def numberOfVerbs(posTags):\n",
        "  return len([word for word,pos in posTags if  'VB' in pos])"
      ]
    },
    {
      "cell_type": "code",
      "execution_count": 5,
      "metadata": {
        "id": "ErvbvQP3_Eyq"
      },
      "outputs": [],
      "source": [
        "# Add new Features\n",
        "data['linkPerComment'] = data['posts'].apply(lambda x: x.count('http')/50)\n",
        "data['musicPerComment'] = data['posts'].apply(lambda x: x.count('music')/50)\n",
        "data['questionPerComment'] = data['posts'].apply(lambda x: x.count('?')/50)\n",
        "data['imagePerComment'] = data['posts'].apply(lambda x: x.count('jpg')/50)\n",
        "data['exclPerComment'] = data['posts'].apply(lambda x: x.count('!')/50)\n",
        "data['ellipsisPerComment'] = data['posts'].apply(lambda x: x.count('...')/50)\n",
        "\n",
        "normalisedPosts = data['posts'].apply(lambda x: normalise(x))\n",
        "data['nounsPerComment'] = normalisedPosts.apply(lambda x: numberOfNouns(tokenize(x))/50)\n",
        "data['verbsPerComment'] = normalisedPosts.apply(lambda x: numberOfVerbs(tokenize(x))/50)"
      ]
    },
    {
      "cell_type": "markdown",
      "metadata": {
        "id": "v6_d8A2h_Eyr"
      },
      "source": [
        "### Notes\n",
        " - We added 8 new features which we hope is going to improve the accuracy\n",
        " - Now Data is ready for applying models"
      ]
    },
    {
      "cell_type": "markdown",
      "metadata": {
        "id": "YFLLddbq_Eyr"
      },
      "source": [
        "## Training (16-Classes)"
      ]
    },
    {
      "cell_type": "code",
      "execution_count": 6,
      "metadata": {
        "id": "nrRvxXtx_Eyr"
      },
      "outputs": [],
      "source": [
        "# Creating Train & Test data using Scikit\n",
        "X = data.drop(['type','posts'], axis=1).values\n",
        "y = data['type'].values\n",
        "X_train,X_test,y_train,y_test = train_test_split(X,y,test_size = 0.2, random_state=5)"
      ]
    },
    {
      "cell_type": "code",
      "execution_count": 7,
      "metadata": {
        "id": "qqxyS0Vs_Eyr",
        "outputId": "dec26157-0c19-4e60-824a-0deddd284cc9"
      },
      "outputs": [
        {
          "name": "stdout",
          "output_type": "stream",
          "text": [
            "Random Forest Accuracy:  19.71 %\n"
          ]
        }
      ],
      "source": [
        "# Random Forest\n",
        "random_forest = RandomForestClassifier()\n",
        "random_forest.fit(X_train, y_train)\n",
        "\n",
        "acc_random_forest = round(random_forest.score(X_test, y_test) * 100, 2)\n",
        "print(\"Random Forest Accuracy: \", acc_random_forest, \"%\")"
      ]
    },
    {
      "cell_type": "code",
      "execution_count": 8,
      "metadata": {
        "id": "r2G2nOl3_Eyr",
        "outputId": "eb519ff2-0759-42a0-a391-7d64601c5708"
      },
      "outputs": [
        {
          "name": "stdout",
          "output_type": "stream",
          "text": [
            "KNN Accuracy:  21.04 %\n"
          ]
        }
      ],
      "source": [
        "# KNN\n",
        "knn = KNeighborsClassifier(n_neighbors = 41) # 41 is sqrt(x_test) \n",
        "knn.fit(X_train, y_train)\n",
        "\n",
        "acc_knn = round(knn.score(X_test, y_test) * 100, 2)\n",
        "print(\"KNN Accuracy: \", acc_knn, \"%\")"
      ]
    },
    {
      "cell_type": "code",
      "execution_count": 9,
      "metadata": {
        "id": "9JzMqmQ2_Eys",
        "outputId": "ddbaebf9-704d-4687-be1e-061aaa7dd931"
      },
      "outputs": [
        {
          "name": "stdout",
          "output_type": "stream",
          "text": [
            "Logistic Regression Accuracy:  24.96 %\n"
          ]
        }
      ],
      "source": [
        "# Logistic Regression\n",
        "log = LogisticRegression(solver='lbfgs', max_iter=1000)\n",
        "log.fit(X_train, y_train)\n",
        "\n",
        "acc_log = round(log.score(X_test, y_test) * 100, 2)\n",
        "print(\"Logistic Regression Accuracy: \", acc_log, \"%\")"
      ]
    },
    {
      "cell_type": "code",
      "execution_count": 13,
      "metadata": {
        "id": "KxOWmcsg_Eys",
        "outputId": "858add34-be04-4a90-a092-03d26cd2f5da"
      },
      "outputs": [
        {
          "name": "stdout",
          "output_type": "stream",
          "text": [
            "ANN Accuracy:  25.59 %\n"
          ]
        }
      ],
      "source": [
        "# Neural Network\n",
        "ann = MLPClassifier(hidden_layer_sizes=(200,), activation='tanh', solver='adam', learning_rate='constant', learning_rate_init=0.001, random_state=555, max_iter=1000).fit(X_train, y_train)\n",
        "\n",
        "acc_ann = round(ann.score(X_test, y_test) * 100, 2)\n",
        "print(\"ANN Accuracy: \", acc_ann, \"%\")"
      ]
    },
    {
      "cell_type": "code",
      "execution_count": 14,
      "metadata": {
        "id": "s8aiep0Y_Eys",
        "outputId": "f6ab2bc8-f7a7-473f-977f-d94b6c6cfa98"
      },
      "outputs": [
        {
          "name": "stdout",
          "output_type": "stream",
          "text": [
            "Naive Bayes  Accuracy:  21.38 %\n"
          ]
        }
      ],
      "source": [
        "# Naive Bayes\n",
        "gnb = GaussianNB()\n",
        "gnb.fit(X_train, y_train)\n",
        "acc_naivebayes = round(gnb.score(X_test, y_test) * 100, 2)\n",
        "print(\"Naive Bayes  Accuracy: \", acc_naivebayes, \"%\")"
      ]
    },
    {
      "cell_type": "code",
      "execution_count": 15,
      "metadata": {
        "id": "0Thlns9z_Eys",
        "outputId": "e3f0f922-44ab-4900-a3e7-2589a8767ac5"
      },
      "outputs": [
        {
          "name": "stdout",
          "output_type": "stream",
          "text": [
            "Support Vector Accuracy:  21.38 %\n"
          ]
        }
      ],
      "source": [
        "# SVM-Linear\n",
        "\n",
        "svclassifier = SVC(kernel='linear')\n",
        "svclassifier.fit(X_train, y_train)\n",
        "acc_svc = round(svclassifier.score(X_test, y_test) * 100, 2)\n",
        "print(\"Support Vector Accuracy: \", acc_naivebayes, \"%\")"
      ]
    },
    {
      "cell_type": "markdown",
      "metadata": {
        "id": "F12SW7HN_Eys"
      },
      "source": [
        "## Notes\n",
        " - Prediction is aweful with 16-Classes!"
      ]
    },
    {
      "cell_type": "markdown",
      "metadata": {
        "id": "UOfmBqlp_Eys"
      },
      "source": [
        "## Training (4-Classes)"
      ]
    },
    {
      "cell_type": "markdown",
      "metadata": {
        "id": "sd3A-D6S_Eys"
      },
      "source": [
        "### 4-Category Visualization"
      ]
    },
    {
      "cell_type": "code",
      "execution_count": 16,
      "metadata": {
        "id": "id2pSgYZ_Eys"
      },
      "outputs": [],
      "source": [
        "# Now we add 4 new features which represent the 4-classes\n",
        "map1 = {\"I\": 0, \"E\": 1}\n",
        "map2 = {\"N\": 0, \"S\": 1}\n",
        "map3 = {\"T\": 0, \"F\": 1}\n",
        "map4 = {\"J\": 0, \"P\": 1}\n",
        "data['I-E'] = data['type'].astype(str).str[0]\n",
        "data['I-E'] = data['I-E'].map(map1)\n",
        "data['N-S'] = data['type'].astype(str).str[1]\n",
        "data['N-S'] = data['N-S'].map(map2)\n",
        "data['T-F'] = data['type'].astype(str).str[2]\n",
        "data['T-F'] = data['T-F'].map(map3)\n",
        "data['J-P'] = data['type'].astype(str).str[3]\n",
        "data['J-P'] = data['J-P'].map(map4)"
      ]
    },
    {
      "cell_type": "code",
      "execution_count": 17,
      "metadata": {
        "id": "E5tLk4wQ_Eyt",
        "outputId": "4e49fc46-cf8d-4fae-baea-fb9b65a9bba7"
      },
      "outputs": [
        {
          "data": {
            "text/plain": [
              "<BarContainer object of 8 artists>"
            ]
          },
          "execution_count": 17,
          "metadata": {},
          "output_type": "execute_result"
        },
        {
          "data": {
            "image/png": "[encoded data removed]",
            "text/plain": [
              "<Figure size 432x288 with 1 Axes>"
            ]
          },
          "metadata": {
            "needs_background": "light"
          },
          "output_type": "display_data"
        }
      ],
      "source": [
        "# We want to see how data is distributed based on 4-Classes\n",
        "typeCount = {}\n",
        "records_count = data.shape[0]\n",
        "\n",
        "ICount = data['I-E'].sum()\n",
        "ECount = records_count - ICount\n",
        "typeCount[\"I\"] = ICount\n",
        "typeCount[\"E\"] = ECount\n",
        "\n",
        "ICount = data['N-S'].sum()\n",
        "ECount = records_count - ICount\n",
        "typeCount[\"N\"] = ICount\n",
        "typeCount[\"S\"] = ECount\n",
        "\n",
        "ICount = data['T-F'].sum()\n",
        "ECount = records_count - ICount\n",
        "typeCount[\"T\"] = ICount\n",
        "typeCount[\"F\"] = ECount\n",
        "\n",
        "ICount = data['J-P'].sum()\n",
        "ECount = records_count - ICount\n",
        "typeCount[\"J\"] = ICount\n",
        "typeCount[\"P\"] = ECount\n",
        "\n",
        "plt.bar(typeCount.keys(), typeCount.values())"
      ]
    },
    {
      "cell_type": "markdown",
      "metadata": {
        "id": "Pz_Ecyt7_Eyt"
      },
      "source": [
        "### Notes\n",
        " - there is still notable difference, but it's more balanced now!"
      ]
    },
    {
      "cell_type": "code",
      "execution_count": 18,
      "metadata": {
        "id": "Fz3thtEZ_Eyt"
      },
      "outputs": [],
      "source": [
        "# Creating Train & Test data using Scikit\n",
        "\n",
        "# Introvert vs Extrovert\n",
        "X_IE = data.drop(['type','posts','I-E'], axis=1).values\n",
        "y_IE = data['I-E'].values\n",
        "X_IE_train,X_IE_test,y_IE_train,y_IE_test = train_test_split(X_IE,y_IE,test_size = 0.2, random_state=5)\n",
        "\n",
        "# Intuition vs Sensing\n",
        "X_NS = data.drop(['type','posts','N-S'], axis=1).values\n",
        "y_NS = data['N-S'].values\n",
        "X_NS_train,X_NS_test,y_NS_train,y_NS_test = train_test_split(X_NS,y_NS,test_size = 0.2, random_state=5)\n",
        "\n",
        "# Thinking - Feeling\n",
        "X_TF = data.drop(['type','posts','T-F'], axis=1).values\n",
        "y_TF = data['T-F'].values\n",
        "X_TF_train,X_TF_test,y_TF_train,y_TF_test = train_test_split(X_TF,y_TF,test_size = 0.2, random_state=5)\n",
        "\n",
        "# Judging - Percieiving\n",
        "X_JP = data.drop(['type','posts','J-P'], axis=1).values\n",
        "y_JP = data['J-P'].values\n",
        "X_JP_train,X_JP_test,y_JP_train,y_JP_test = train_test_split(X_JP,y_JP,test_size = 0.2, random_state=5)"
      ]
    },
    {
      "cell_type": "code",
      "execution_count": 69,
      "metadata": {
        "id": "ChZjS3-8_Eyt",
        "outputId": "d3dfe3cc-5661-465c-c837-03394a103f72"
      },
      "outputs": [
        {
          "name": "stdout",
          "output_type": "stream",
          "text": [
            "I-E Accuracy:  77.69 %\n",
            "N-S Accuracy:  86.86 %\n",
            "T-F Accuracy:  68.13 %\n",
            "J-P Accuracy:  60.81 %\n",
            "mean Accuracy:  73.37 %\n",
            "Actuall Accuracy (pint to point):  33.78 %\n",
            "1-miss Accuracy (pint to point):  68.88 %\n"
          ]
        }
      ],
      "source": [
        "#ANN\n",
        "IEClass = MLPClassifier(hidden_layer_sizes=(100,), activation='tanh', solver='adam', learning_rate='adaptive', learning_rate_init=0.001, random_state=555, max_iter=1000).fit(X_IE_train, y_IE_train)\n",
        "NSClass = MLPClassifier(hidden_layer_sizes=(100,), activation='tanh', solver='adam', learning_rate='adaptive', learning_rate_init=0.001, random_state=555, max_iter=1000).fit(X_NS_train, y_NS_train)\n",
        "TFClass = MLPClassifier(hidden_layer_sizes=(100,), activation='tanh', solver='adam', learning_rate='adaptive', learning_rate_init=0.001, random_state=555, max_iter=1000).fit(X_TF_train, y_TF_train)\n",
        "JPClass = MLPClassifier(hidden_layer_sizes=(100,), activation='tanh', solver='adam', learning_rate='adaptive', learning_rate_init=0.001, random_state=555, max_iter=1000).fit(X_JP_train, y_JP_train)\n",
        "\n",
        "acc_ANN_IE = round(IEClass.score(X_IE_test, y_IE_test) * 100, 2)\n",
        "acc_ANN_NS = round(NSClass.score(X_NS_test, y_NS_test) * 100, 2)\n",
        "acc_ANN_TF = round(TFClass.score(X_TF_test, y_TF_test) * 100, 2)\n",
        "acc_ANN_JP = round(JPClass.score(X_JP_test, y_JP_test) * 100, 2)\n",
        "mean_acc_ann = round((acc_ANN_IE + acc_ANN_NS + acc_ANN_TF + acc_ANN_JP)/4, 2)\n",
        "\n",
        "print(\"I-E Accuracy: \", acc_ANN_IE, \"%\")\n",
        "print(\"N-S Accuracy: \", acc_ANN_NS, \"%\")\n",
        "print(\"T-F Accuracy: \", acc_ANN_TF, \"%\")\n",
        "print(\"J-P Accuracy: \", acc_ANN_JP, \"%\")\n",
        "print(\"mean Accuracy: \", mean_acc_ann , \"%\")\n",
        "\n",
        "records_count = len(X_IE_test)\n",
        "\n",
        "predicted = np.concatenate((np.array(IEClass.predict(X_IE_test)),np.array(NSClass.predict(X_NS_test)),np.array(TFClass.predict(X_TF_test)),np.array(JPClass.predict(X_JP_test))))\n",
        "predicted = np.reshape(predicted,(records_count,4))\n",
        "\n",
        "y_total = np.concatenate((np.array(y_IE_test),np.array(y_NS_test),np.array(y_TF_test),np.array(y_JP_test)))\n",
        "y_total = np.reshape(y_total,(records_count,4))\n",
        "\n",
        "acc = predicted == y_total\n",
        "complete = np.sum(acc,axis=1)\n",
        "act_acc_ann = round((sum(complete == 4) / records_count)*100, 2)\n",
        "three_acc_ann = round((sum(complete >= 3) / records_count)*100, 2)\n",
        "\n",
        "print(\"Actuall Accuracy (pint to point): \", act_acc_ann, \"%\")\n",
        "print(\"1-miss Accuracy (pint to point): \", three_acc_ann, \"%\")"
      ]
    },
    {
      "cell_type": "code",
      "execution_count": 57,
      "metadata": {
        "id": "wX8fgijf_Eyt",
        "outputId": "cb022a25-ded5-41f6-830d-6516813e116f"
      },
      "outputs": [
        {
          "name": "stdout",
          "output_type": "stream",
          "text": [
            "I-E Accuracy:  77.23 %\n",
            "N-S Accuracy:  68.88 %\n",
            "T-F Accuracy:  64.44 %\n",
            "J-P Accuracy:  56.83 %\n",
            "mean Accuracy:  66.845 %\n",
            "Actuall Accuracy (pint to point):  22.88 %\n"
          ]
        }
      ],
      "source": [
        "# Random Forest\n",
        "random_forest = RandomForestClassifier()\n",
        "\n",
        "# I-E\n",
        "random_forest.fit(X_IE_train, y_IE_train)\n",
        "acc_random_forest_IE = round(random_forest.score(X_IE_test, y_IE_test) * 100, 2)\n",
        "print(\"I-E Accuracy: \", acc_random_forest_IE, \"%\")\n",
        "\n",
        "iep = np.array(random_forest.predict(X_IE_test))\n",
        "\n",
        "# N-S\n",
        "random_forest.fit(X_IE_train, y_NS_train)\n",
        "acc_random_forest_NS = round(random_forest.score(X_NS_test, y_NS_test) * 100, 2)\n",
        "print(\"N-S Accuracy: \", acc_random_forest_NS, \"%\")\n",
        "\n",
        "nsp = np.array(random_forest.predict(X_NS_test))\n",
        "\n",
        "# T-F\n",
        "random_forest.fit(X_TF_train, y_TF_train)\n",
        "acc_random_forest_TF = round(random_forest.score(X_TF_test, y_TF_test) * 100, 2)\n",
        "print(\"T-F Accuracy: \", acc_random_forest_TF, \"%\")\n",
        "\n",
        "tfp = np.array(random_forest.predict(X_TF_test))\n",
        "\n",
        "# J-P\n",
        "random_forest.fit(X_JP_train, y_JP_train)\n",
        "acc_random_forest_JP = round(random_forest.score(X_JP_test, y_JP_test) * 100, 2)\n",
        "print(\"J-P Accuracy: \", acc_random_forest_JP, \"%\")\n",
        "\n",
        "jpp = np.array(random_forest.predict(X_JP_test))\n",
        "\n",
        "mean_acc_random_forest = (acc_random_forest_IE + acc_random_forest_NS + acc_random_forest_TF + acc_random_forest_JP)/4\n",
        "print(\"mean Accuracy: \", mean_acc_random_forest , \"%\")\n",
        "\n",
        "\n",
        "\n",
        "records_count = len(X_IE_test)\n",
        "\n",
        "predicted = np.concatenate((iep,nsp,tfp,jpp))\n",
        "predicted = np.reshape(predicted,(records_count,4))\n",
        "\n",
        "y_total = np.concatenate((np.array(y_IE_test),np.array(y_NS_test),np.array(y_TF_test),np.array(y_JP_test)))\n",
        "y_total = np.reshape(y_total,(records_count,4))\n",
        "\n",
        "acc = predicted == y_total\n",
        "complete = np.sum(acc,axis=1)\n",
        "\n",
        "act_rf_ann = round((sum(complete == 4) / records_count)*100, 2)\n",
        "\n",
        "print(\"Actuall Accuracy (pint to point): \", act_rf_ann, \"%\")"
      ]
    },
    {
      "cell_type": "code",
      "execution_count": 70,
      "metadata": {
        "id": "CVAAQTqe_Eyu",
        "outputId": "f2f3e981-2a19-47b0-eb72-5bfd7fea9057"
      },
      "outputs": [
        {
          "name": "stdout",
          "output_type": "stream",
          "text": [
            "I-E Accuracy:  77.64 %\n",
            "N-S Accuracy:  86.86 %\n",
            "T-F Accuracy:  59.65 %\n",
            "J-P Accuracy:  59.48 %\n",
            "mean Accuracy:  70.9075 %\n",
            "Actuall Accuracy (pint to point):  33.78 %\n",
            "1-miss Accuracy (pint to point):  64.38 %\n"
          ]
        }
      ],
      "source": [
        "# KNN\n",
        "knn = KNeighborsClassifier(n_neighbors = 41)\n",
        "\n",
        "# I-E\n",
        "knn.fit(X_IE_train, y_IE_train)\n",
        "acc_knn_IE = round(knn.score(X_IE_test, y_IE_test) * 100, 2)\n",
        "print(\"I-E Accuracy: \", acc_knn_IE, \"%\")\n",
        "\n",
        "iep = np.array(knn.predict(X_IE_test))\n",
        "\n",
        "# N-S\n",
        "knn.fit(X_NS_train, y_NS_train)\n",
        "acc_knn_NS = round(knn.score(X_NS_test, y_NS_test) * 100, 2)\n",
        "print(\"N-S Accuracy: \", acc_knn_NS, \"%\")\n",
        "\n",
        "nsp = np.array(knn.predict(X_NS_test))\n",
        "\n",
        "# T-F\n",
        "knn.fit(X_TF_train, y_TF_train)\n",
        "acc_knn_TF = round(knn.score(X_TF_test, y_TF_test) * 100, 2)\n",
        "print(\"T-F Accuracy: \", acc_knn_TF, \"%\")\n",
        "\n",
        "tfp = np.array(knn.predict(X_TF_test))\n",
        "\n",
        "# J-P\n",
        "knn.fit(X_JP_train, y_JP_train)\n",
        "acc_knn_JP = round(knn.score(X_JP_test, y_JP_test) * 100, 2)\n",
        "print(\"J-P Accuracy: \", acc_knn_JP, \"%\")\n",
        "\n",
        "jpp = np.array(knn.predict(X_JP_test))\n",
        "\n",
        "mean_acc_knn = (acc_knn_IE + acc_knn_NS + acc_knn_TF + acc_knn_JP)/4\n",
        "print(\"mean Accuracy: \", mean_acc_knn , \"%\")\n",
        "\n",
        "\n",
        "records_count = len(X_IE_test)\n",
        "\n",
        "predicted = np.concatenate((iep,nsp,tfp,jpp))\n",
        "predicted = np.reshape(predicted,(records_count,4))\n",
        "\n",
        "y_total = np.concatenate((np.array(y_IE_test),np.array(y_NS_test),np.array(y_TF_test),np.array(y_JP_test)))\n",
        "y_total = np.reshape(y_total,(records_count,4))\n",
        "\n",
        "acc = predicted == y_total\n",
        "complete = np.sum(acc,axis=1)\n",
        "\n",
        "act_knn_ann = round((sum(complete == 4) / records_count)*100, 2)\n",
        "three_acc_ann = round((sum(complete >= 3) / records_count)*100, 2)\n",
        "\n",
        "print(\"Actuall Accuracy (pint to point): \", act_acc_ann, \"%\")\n",
        "print(\"1-miss Accuracy (pint to point): \", three_acc_ann, \"%\")"
      ]
    },
    {
      "cell_type": "code",
      "execution_count": 71,
      "metadata": {
        "id": "fJvFlsIa_Eyu",
        "outputId": "66413f49-c96e-45af-bb39-3e7abc3d50d1"
      },
      "outputs": [
        {
          "name": "stdout",
          "output_type": "stream",
          "text": [
            "I-E Accuracy:  77.58 %\n",
            "N-S Accuracy:  86.86 %\n",
            "T-F Accuracy:  66.74 %\n",
            "J-P Accuracy:  60.46 %\n",
            "mean Accuracy:  72.91 %\n",
            "Actuall Accuracy (pint to point):  33.78 %\n",
            "1-miss Accuracy (pint to point):  68.3 %\n"
          ]
        }
      ],
      "source": [
        "# Logistic Regression\n",
        "\n",
        "log = LogisticRegression(solver='lbfgs', max_iter=1000)\n",
        "\n",
        "# I-E\n",
        "log.fit(X_IE_train, y_IE_train)\n",
        "acc_log_IE = round(log.score(X_IE_test, y_IE_test) * 100, 2)\n",
        "print(\"I-E Accuracy: \", acc_log_IE, \"%\")\n",
        "\n",
        "iep = np.array(log.predict(X_IE_test))\n",
        "\n",
        "# N-S\n",
        "log.fit(X_NS_train, y_NS_train)\n",
        "acc_log_NS = round(log.score(X_NS_test, y_NS_test) * 100, 2)\n",
        "print(\"N-S Accuracy: \", acc_log_NS, \"%\")\n",
        "\n",
        "nsp = np.array(log.predict(X_NS_test))\n",
        "\n",
        "# T-F\n",
        "log.fit(X_TF_train, y_TF_train)\n",
        "acc_log_TF = round(log.score(X_TF_test, y_TF_test) * 100, 2)\n",
        "print(\"T-F Accuracy: \", acc_log_TF, \"%\")\n",
        "\n",
        "tfp = np.array(log.predict(X_TF_test))\n",
        "\n",
        "# J-P\n",
        "log.fit(X_JP_train, y_JP_train)\n",
        "acc_log_JP = round(log.score(X_JP_test, y_JP_test) * 100, 2)\n",
        "print(\"J-P Accuracy: \", acc_log_JP, \"%\")\n",
        "\n",
        "jpp = np.array(log.predict(X_JP_test))\n",
        "\n",
        "mean_acc_log = (acc_log_IE + acc_log_NS + acc_log_TF + acc_log_JP)/4\n",
        "print(\"mean Accuracy: \", mean_acc_log , \"%\")\n",
        "\n",
        "records_count = len(X_IE_test)\n",
        "\n",
        "predicted = np.concatenate((iep,nsp,tfp,jpp))\n",
        "predicted = np.reshape(predicted,(records_count,4))\n",
        "\n",
        "y_total = np.concatenate((np.array(y_IE_test),np.array(y_NS_test),np.array(y_TF_test),np.array(y_JP_test)))\n",
        "y_total = np.reshape(y_total,(records_count,4))\n",
        "\n",
        "acc = predicted == y_total\n",
        "complete = np.sum(acc,axis=1)\n",
        "\n",
        "act_log_ann = round((sum(complete == 4) / records_count)*100, 2)\n",
        "three_acc_ann = round((sum(complete >= 3) / records_count)*100, 2)\n",
        "\n",
        "print(\"Actuall Accuracy (pint to point): \", act_acc_ann, \"%\")\n",
        "print(\"1-miss Accuracy (pint to point): \", three_acc_ann, \"%\")"
      ]
    },
    {
      "cell_type": "code",
      "execution_count": 76,
      "metadata": {
        "id": "knLeri-M_Eyu",
        "outputId": "d2698958-dc78-455a-f195-1349dab1dc40"
      },
      "outputs": [
        {
          "name": "stdout",
          "output_type": "stream",
          "text": [
            "I-E Accuracy: 76.31 %\n",
            "N-S Accuracy: 83.86 %\n",
            "T-F Accuracy: 62.07 %\n",
            "J-P Accuracy: 57.12 %\n",
            "mean Accuracy:  69.84 %\n",
            "Actuall Accuracy (pint to point):  33.78 %\n",
            "1-miss Accuracy (pint to point):  64.32 %\n"
          ]
        }
      ],
      "source": [
        "# Naive Bayes\n",
        "gnb = GaussianNB()\n",
        "\n",
        "# I-E\n",
        "gnb.fit(X_IE_train, y_IE_train)\n",
        "acc_nb_IE = round(gnb.score(X_IE_test, y_IE_test) * 100, 2)\n",
        "print(\"I-E Accuracy:\", acc_nb_IE, \"%\")\n",
        "\n",
        "iep = np.array(gnb.predict(X_IE_test))\n",
        "\n",
        "# N-S\n",
        "gnb.fit(X_NS_train, y_NS_train)\n",
        "acc_nb_NS = round(gnb.score(X_NS_test, y_NS_test) * 100, 2)\n",
        "print(\"N-S Accuracy:\", acc_nb_NS, \"%\")\n",
        "\n",
        "nsp = np.array(gnb.predict(X_NS_test))\n",
        "\n",
        "# T-F\n",
        "gnb.fit(X_TF_train, y_TF_train)\n",
        "acc_nb_TF = round(gnb.score(X_TF_test, y_TF_test) * 100, 2)\n",
        "print(\"T-F Accuracy:\", acc_nb_TF, \"%\")\n",
        "\n",
        "tfp = np.array(gnb.predict(X_TF_test))\n",
        "\n",
        "# J-P\n",
        "gnb.fit(X_JP_train, y_JP_train)\n",
        "acc_nb_JP = round(gnb.score(X_JP_test, y_JP_test) * 100, 2)\n",
        "print(\"J-P Accuracy:\", acc_nb_JP, \"%\")\n",
        "\n",
        "jpp = np.array(gnb.predict(X_JP_test))\n",
        "\n",
        "mean_acc_gnb = (acc_nb_IE + acc_nb_NS + acc_nb_TF + acc_nb_JP)/4\n",
        "print(\"mean Accuracy: \", mean_acc_gnb , \"%\")\n",
        "\n",
        "\n",
        "records_count = len(X_IE_test)\n",
        "\n",
        "predicted = np.concatenate((iep,nsp,tfp,jpp))\n",
        "predicted = np.reshape(predicted,(records_count,4))\n",
        "\n",
        "y_total = np.concatenate((np.array(y_IE_test),np.array(y_NS_test),np.array(y_TF_test),np.array(y_JP_test)))\n",
        "y_total = np.reshape(y_total,(records_count,4))\n",
        "\n",
        "acc = predicted == y_total\n",
        "complete = np.sum(acc,axis=1)\n",
        "\n",
        "act_nb_ann = round((sum(complete == 4) / records_count)*100, 2)\n",
        "three_acc_ann = round((sum(complete >= 3) / records_count)*100, 2)\n",
        "\n",
        "print(\"Actuall Accuracy (pint to point): \", act_acc_ann, \"%\")\n",
        "print(\"1-miss Accuracy (pint to point): \", three_acc_ann, \"%\")"
      ]
    },
    {
      "cell_type": "code",
      "execution_count": 77,
      "metadata": {
        "id": "FBO0yXVK_Eyu",
        "outputId": "2bf50e1b-47c0-4054-d187-65885457c110"
      },
      "outputs": [
        {
          "name": "stdout",
          "output_type": "stream",
          "text": [
            "I-E Accuracy: 76.31 %\n",
            "N-S Accuracy: 83.86 %\n",
            "T-F Accuracy: 62.07 %\n",
            "J-P Accuracy: 57.12 %\n",
            "mean Accuracy:  69.84 %\n",
            "Actuall Accuracy (pint to point):  33.78 %\n",
            "1-miss Accuracy (pint to point):  68.13 %\n"
          ]
        }
      ],
      "source": [
        "# SVM-Linear\n",
        "svclassifier = SVC(kernel='linear')\n",
        "\n",
        "# I-E\n",
        "svclassifier.fit(X_IE_train, y_IE_train)\n",
        "acc_svc_IE = round(svclassifier.score(X_IE_test, y_IE_test) * 100, 2)\n",
        "print(\"I-E Accuracy:\", acc_nb_IE, \"%\")\n",
        "\n",
        "iep = np.array(svclassifier.predict(X_IE_test))\n",
        "\n",
        "# N-S\n",
        "svclassifier.fit(X_NS_train, y_NS_train)\n",
        "acc_svc_NS = round(svclassifier.score(X_NS_test, y_NS_test) * 100, 2)\n",
        "print(\"N-S Accuracy:\", acc_nb_NS, \"%\")\n",
        "\n",
        "nsp = np.array(svclassifier.predict(X_NS_test))\n",
        "\n",
        "# T-F\n",
        "svclassifier.fit(X_TF_train, y_TF_train)\n",
        "acc_svc_TF = round(svclassifier.score(X_TF_test, y_TF_test) * 100, 2)\n",
        "print(\"T-F Accuracy:\", acc_nb_TF, \"%\")\n",
        "\n",
        "tfp = np.array(svclassifier.predict(X_TF_test))\n",
        "\n",
        "# J-P\n",
        "svclassifier.fit(X_JP_train, y_JP_train)\n",
        "acc_svc_JP = round(svclassifier.score(X_JP_test, y_JP_test) * 100, 2)\n",
        "print(\"J-P Accuracy:\", acc_nb_JP, \"%\")\n",
        "\n",
        "jpp = np.array(svclassifier.predict(X_JP_test))\n",
        "\n",
        "mean_acc_svc = (acc_nb_IE + acc_nb_NS + acc_nb_TF + acc_nb_JP)/4\n",
        "print(\"mean Accuracy: \", mean_acc_svc , \"%\")\n",
        "\n",
        "\n",
        "records_count = len(X_IE_test)\n",
        "\n",
        "predicted = np.concatenate((iep,nsp,tfp,jpp))\n",
        "predicted = np.reshape(predicted,(records_count,4))\n",
        "\n",
        "y_total = np.concatenate((np.array(y_IE_test),np.array(y_NS_test),np.array(y_TF_test),np.array(y_JP_test)))\n",
        "y_total = np.reshape(y_total,(records_count,4))\n",
        "\n",
        "acc = predicted == y_total\n",
        "complete = np.sum(acc,axis=1)\n",
        "\n",
        "act_svc_ann = round((sum(complete == 4) / records_count)*100, 2)\n",
        "three_acc_ann = round((sum(complete >= 3) / records_count)*100, 2)\n",
        "\n",
        "print(\"Actuall Accuracy (pint to point): \", act_acc_ann, \"%\")\n",
        "print(\"1-miss Accuracy (pint to point): \", three_acc_ann, \"%\")"
      ]
    },
    {
      "cell_type": "code",
      "execution_count": 78,
      "metadata": {
        "id": "btUdUala_Eyu",
        "outputId": "bf32d9c3-dec9-4655-caee-818a0ea7ea35"
      },
      "outputs": [
        {
          "data": {
            "application/vnd.plotly.v1+json": {
              "config": {
                "plotlyServerURL": "https://plot.ly"
              },
              "data": [
                {
                  "name": "ANN",
                  "type": "bar",
                  "x": [
                    "I-E",
                    "N-S",
                    "T-F",
                    "J-P",
                    "mean",
                    "actual"
                  ],
                  "y": [
                    77.69,
                    86.86,
                    68.13,
                    60.81,
                    73.37,
                    33.78
                  ]
                },
                {
                  "name": "Random Forest",
                  "type": "bar",
                  "x": [
                    "I-E",
                    "N-S",
                    "T-F",
                    "J-P",
                    "mean",
                    "actual"
                  ],
                  "y": [
                    77.23,
                    68.88,
                    64.44,
                    56.83,
                    66.845,
                    22.88
                  ]
                },
                {
                  "name": "KNN",
                  "type": "bar",
                  "x": [
                    "I-E",
                    "N-S",
                    "T-F",
                    "J-P",
                    "mean",
                    "actual"
                  ],
                  "y": [
                    77.64,
                    86.86,
                    59.65,
                    59.48,
                    70.9075,
                    31.12
                  ]
                },
                {
                  "name": "Logistic Regression",
                  "type": "bar",
                  "x": [
                    "I-E",
                    "N-S",
                    "T-F",
                    "J-P",
                    "mean",
                    "actual"
                  ],
                  "y": [
                    77.58,
                    86.86,
                    66.74,
                    60.46,
                    72.91,
                    33.26
                  ]
                },
                {
                  "name": "Naive Bayes",
                  "type": "bar",
                  "x": [
                    "I-E",
                    "N-S",
                    "T-F",
                    "J-P",
                    "mean",
                    "actual"
                  ],
                  "y": [
                    76.31,
                    83.86,
                    62.07,
                    57.12,
                    69.84,
                    26.74
                  ]
                },
                {
                  "name": "SVM",
                  "type": "bar",
                  "x": [
                    "I-E",
                    "N-S",
                    "T-F",
                    "J-P",
                    "mean",
                    "actual"
                  ],
                  "y": [
                    77.64,
                    86.86,
                    66.22,
                    60.35,
                    69.84,
                    33.2
                  ]
                }
              ],
              "layout": {
                "template": {
                  "data": {
                    "bar": [
                      {
                        "error_x": {
                          "color": "#2a3f5f"
                        },
                        "error_y": {
                          "color": "#2a3f5f"
                        },
                        "marker": {
                          "line": {
                            "color": "#E5ECF6",
                            "width": 0.5
                          },
                          "pattern": {
                            "fillmode": "overlay",
                            "size": 10,
                            "solidity": 0.2
                          }
                        },
                        "type": "bar"
                      }
                    ],
                    "barpolar": [
                      {
                        "marker": {
                          "line": {
                            "color": "#E5ECF6",
                            "width": 0.5
                          },
                          "pattern": {
                            "fillmode": "overlay",
                            "size": 10,
                            "solidity": 0.2
                          }
                        },
                        "type": "barpolar"
                      }
                    ],
                    "carpet": [
                      {
                        "aaxis": {
                          "endlinecolor": "#2a3f5f",
                          "gridcolor": "white",
                          "linecolor": "white",
                          "minorgridcolor": "white",
                          "startlinecolor": "#2a3f5f"
                        },
                        "baxis": {
                          "endlinecolor": "#2a3f5f",
                          "gridcolor": "white",
                          "linecolor": "white",
                          "minorgridcolor": "white",
                          "startlinecolor": "#2a3f5f"
                        },
                        "type": "carpet"
                      }
                    ],
                    "choropleth": [
                      {
                        "colorbar": {
                          "outlinewidth": 0,
                          "ticks": ""
                        },
                        "type": "choropleth"
                      }
                    ],
                    "contour": [
                      {
                        "colorbar": {
                          "outlinewidth": 0,
                          "ticks": ""
                        },
                        "colorscale": [
                          [
                            0,
                            "#0d0887"
                          ],
                          [
                            0.1111111111111111,
                            "#46039f"
                          ],
                          [
                            0.2222222222222222,
                            "#7201a8"
                          ],
                          [
                            0.3333333333333333,
                            "#9c179e"
                          ],
                          [
                            0.4444444444444444,
                            "#bd3786"
                          ],
                          [
                            0.5555555555555556,
                            "#d8576b"
                          ],
                          [
                            0.6666666666666666,
                            "#ed7953"
                          ],
                          [
                            0.7777777777777778,
                            "#fb9f3a"
                          ],
                          [
                            0.8888888888888888,
                            "#fdca26"
                          ],
                          [
                            1,
                            "#f0f921"
                          ]
                        ],
                        "type": "contour"
                      }
                    ],
                    "contourcarpet": [
                      {
                        "colorbar": {
                          "outlinewidth": 0,
                          "ticks": ""
                        },
                        "type": "contourcarpet"
                      }
                    ],
                    "heatmap": [
                      {
                        "colorbar": {
                          "outlinewidth": 0,
                          "ticks": ""
                        },
                        "colorscale": [
                          [
                            0,
                            "#0d0887"
                          ],
                          [
                            0.1111111111111111,
                            "#46039f"
                          ],
                          [
                            0.2222222222222222,
                            "#7201a8"
                          ],
                          [
                            0.3333333333333333,
                            "#9c179e"
                          ],
                          [
                            0.4444444444444444,
                            "#bd3786"
                          ],
                          [
                            0.5555555555555556,
                            "#d8576b"
                          ],
                          [
                            0.6666666666666666,
                            "#ed7953"
                          ],
                          [
                            0.7777777777777778,
                            "#fb9f3a"
                          ],
                          [
                            0.8888888888888888,
                            "#fdca26"
                          ],
                          [
                            1,
                            "#f0f921"
                          ]
                        ],
                        "type": "heatmap"
                      }
                    ],
                    "heatmapgl": [
                      {
                        "colorbar": {
                          "outlinewidth": 0,
                          "ticks": ""
                        },
                        "colorscale": [
                          [
                            0,
                            "#0d0887"
                          ],
                          [
                            0.1111111111111111,
                            "#46039f"
                          ],
                          [
                            0.2222222222222222,
                            "#7201a8"
                          ],
                          [
                            0.3333333333333333,
                            "#9c179e"
                          ],
                          [
                            0.4444444444444444,
                            "#bd3786"
                          ],
                          [
                            0.5555555555555556,
                            "#d8576b"
                          ],
                          [
                            0.6666666666666666,
                            "#ed7953"
                          ],
                          [
                            0.7777777777777778,
                            "#fb9f3a"
                          ],
                          [
                            0.8888888888888888,
                            "#fdca26"
                          ],
                          [
                            1,
                            "#f0f921"
                          ]
                        ],
                        "type": "heatmapgl"
                      }
                    ],
                    "histogram": [
                      {
                        "marker": {
                          "pattern": {
                            "fillmode": "overlay",
                            "size": 10,
                            "solidity": 0.2
                          }
                        },
                        "type": "histogram"
                      }
                    ],
                    "histogram2d": [
                      {
                        "colorbar": {
                          "outlinewidth": 0,
                          "ticks": ""
                        },
                        "colorscale": [
                          [
                            0,
                            "#0d0887"
                          ],
                          [
                            0.1111111111111111,
                            "#46039f"
                          ],
                          [
                            0.2222222222222222,
                            "#7201a8"
                          ],
                          [
                            0.3333333333333333,
                            "#9c179e"
                          ],
                          [
                            0.4444444444444444,
                            "#bd3786"
                          ],
                          [
                            0.5555555555555556,
                            "#d8576b"
                          ],
                          [
                            0.6666666666666666,
                            "#ed7953"
                          ],
                          [
                            0.7777777777777778,
                            "#fb9f3a"
                          ],
                          [
                            0.8888888888888888,
                            "#fdca26"
                          ],
                          [
                            1,
                            "#f0f921"
                          ]
                        ],
                        "type": "histogram2d"
                      }
                    ],
                    "histogram2dcontour": [
                      {
                        "colorbar": {
                          "outlinewidth": 0,
                          "ticks": ""
                        },
                        "colorscale": [
                          [
                            0,
                            "#0d0887"
                          ],
                          [
                            0.1111111111111111,
                            "#46039f"
                          ],
                          [
                            0.2222222222222222,
                            "#7201a8"
                          ],
                          [
                            0.3333333333333333,
                            "#9c179e"
                          ],
                          [
                            0.4444444444444444,
                            "#bd3786"
                          ],
                          [
                            0.5555555555555556,
                            "#d8576b"
                          ],
                          [
                            0.6666666666666666,
                            "#ed7953"
                          ],
                          [
                            0.7777777777777778,
                            "#fb9f3a"
                          ],
                          [
                            0.8888888888888888,
                            "#fdca26"
                          ],
                          [
                            1,
                            "#f0f921"
                          ]
                        ],
                        "type": "histogram2dcontour"
                      }
                    ],
                    "mesh3d": [
                      {
                        "colorbar": {
                          "outlinewidth": 0,
                          "ticks": ""
                        },
                        "type": "mesh3d"
                      }
                    ],
                    "parcoords": [
                      {
                        "line": {
                          "colorbar": {
                            "outlinewidth": 0,
                            "ticks": ""
                          }
                        },
                        "type": "parcoords"
                      }
                    ],
                    "pie": [
                      {
                        "automargin": true,
                        "type": "pie"
                      }
                    ],
                    "scatter": [
                      {
                        "marker": {
                          "colorbar": {
                            "outlinewidth": 0,
                            "ticks": ""
                          }
                        },
                        "type": "scatter"
                      }
                    ],
                    "scatter3d": [
                      {
                        "line": {
                          "colorbar": {
                            "outlinewidth": 0,
                            "ticks": ""
                          }
                        },
                        "marker": {
                          "colorbar": {
                            "outlinewidth": 0,
                            "ticks": ""
                          }
                        },
                        "type": "scatter3d"
                      }
                    ],
                    "scattercarpet": [
                      {
                        "marker": {
                          "colorbar": {
                            "outlinewidth": 0,
                            "ticks": ""
                          }
                        },
                        "type": "scattercarpet"
                      }
                    ],
                    "scattergeo": [
                      {
                        "marker": {
                          "colorbar": {
                            "outlinewidth": 0,
                            "ticks": ""
                          }
                        },
                        "type": "scattergeo"
                      }
                    ],
                    "scattergl": [
                      {
                        "marker": {
                          "colorbar": {
                            "outlinewidth": 0,
                            "ticks": ""
                          }
                        },
                        "type": "scattergl"
                      }
                    ],
                    "scattermapbox": [
                      {
                        "marker": {
                          "colorbar": {
                            "outlinewidth": 0,
                            "ticks": ""
                          }
                        },
                        "type": "scattermapbox"
                      }
                    ],
                    "scatterpolar": [
                      {
                        "marker": {
                          "colorbar": {
                            "outlinewidth": 0,
                            "ticks": ""
                          }
                        },
                        "type": "scatterpolar"
                      }
                    ],
                    "scatterpolargl": [
                      {
                        "marker": {
                          "colorbar": {
                            "outlinewidth": 0,
                            "ticks": ""
                          }
                        },
                        "type": "scatterpolargl"
                      }
                    ],
                    "scatterternary": [
                      {
                        "marker": {
                          "colorbar": {
                            "outlinewidth": 0,
                            "ticks": ""
                          }
                        },
                        "type": "scatterternary"
                      }
                    ],
                    "surface": [
                      {
                        "colorbar": {
                          "outlinewidth": 0,
                          "ticks": ""
                        },
                        "colorscale": [
                          [
                            0,
                            "#0d0887"
                          ],
                          [
                            0.1111111111111111,
                            "#46039f"
                          ],
                          [
                            0.2222222222222222,
                            "#7201a8"
                          ],
                          [
                            0.3333333333333333,
                            "#9c179e"
                          ],
                          [
                            0.4444444444444444,
                            "#bd3786"
                          ],
                          [
                            0.5555555555555556,
                            "#d8576b"
                          ],
                          [
                            0.6666666666666666,
                            "#ed7953"
                          ],
                          [
                            0.7777777777777778,
                            "#fb9f3a"
                          ],
                          [
                            0.8888888888888888,
                            "#fdca26"
                          ],
                          [
                            1,
                            "#f0f921"
                          ]
                        ],
                        "type": "surface"
                      }
                    ],
                    "table": [
                      {
                        "cells": {
                          "fill": {
                            "color": "#EBF0F8"
                          },
                          "line": {
                            "color": "white"
                          }
                        },
                        "header": {
                          "fill": {
                            "color": "#C8D4E3"
                          },
                          "line": {
                            "color": "white"
                          }
                        },
                        "type": "table"
                      }
                    ]
                  },
                  "layout": {
                    "annotationdefaults": {
                      "arrowcolor": "#2a3f5f",
                      "arrowhead": 0,
                      "arrowwidth": 1
                    },
                    "autotypenumbers": "strict",
                    "coloraxis": {
                      "colorbar": {
                        "outlinewidth": 0,
                        "ticks": ""
                      }
                    },
                    "colorscale": {
                      "diverging": [
                        [
                          0,
                          "#8e0152"
                        ],
                        [
                          0.1,
                          "#c51b7d"
                        ],
                        [
                          0.2,
                          "#de77ae"
                        ],
                        [
                          0.3,
                          "#f1b6da"
                        ],
                        [
                          0.4,
                          "#fde0ef"
                        ],
                        [
                          0.5,
                          "#f7f7f7"
                        ],
                        [
                          0.6,
                          "#e6f5d0"
                        ],
                        [
                          0.7,
                          "#b8e186"
                        ],
                        [
                          0.8,
                          "#7fbc41"
                        ],
                        [
                          0.9,
                          "#4d9221"
                        ],
                        [
                          1,
                          "#276419"
                        ]
                      ],
                      "sequential": [
                        [
                          0,
                          "#0d0887"
                        ],
                        [
                          0.1111111111111111,
                          "#46039f"
                        ],
                        [
                          0.2222222222222222,
                          "#7201a8"
                        ],
                        [
                          0.3333333333333333,
                          "#9c179e"
                        ],
                        [
                          0.4444444444444444,
                          "#bd3786"
                        ],
                        [
                          0.5555555555555556,
                          "#d8576b"
                        ],
                        [
                          0.6666666666666666,
                          "#ed7953"
                        ],
                        [
                          0.7777777777777778,
                          "#fb9f3a"
                        ],
                        [
                          0.8888888888888888,
                          "#fdca26"
                        ],
                        [
                          1,
                          "#f0f921"
                        ]
                      ],
                      "sequentialminus": [
                        [
                          0,
                          "#0d0887"
                        ],
                        [
                          0.1111111111111111,
                          "#46039f"
                        ],
                        [
                          0.2222222222222222,
                          "#7201a8"
                        ],
                        [
                          0.3333333333333333,
                          "#9c179e"
                        ],
                        [
                          0.4444444444444444,
                          "#bd3786"
                        ],
                        [
                          0.5555555555555556,
                          "#d8576b"
                        ],
                        [
                          0.6666666666666666,
                          "#ed7953"
                        ],
                        [
                          0.7777777777777778,
                          "#fb9f3a"
                        ],
                        [
                          0.8888888888888888,
                          "#fdca26"
                        ],
                        [
                          1,
                          "#f0f921"
                        ]
                      ]
                    },
                    "colorway": [
                      "#636efa",
                      "#EF553B",
                      "#00cc96",
                      "#ab63fa",
                      "#FFA15A",
                      "#19d3f3",
                      "#FF6692",
                      "#B6E880",
                      "#FF97FF",
                      "#FECB52"
                    ],
                    "font": {
                      "color": "#2a3f5f"
                    },
                    "geo": {
                      "bgcolor": "white",
                      "lakecolor": "white",
                      "landcolor": "#E5ECF6",
                      "showlakes": true,
                      "showland": true,
                      "subunitcolor": "white"
                    },
                    "hoverlabel": {
                      "align": "left"
                    },
                    "hovermode": "closest",
                    "mapbox": {
                      "style": "light"
                    },
                    "paper_bgcolor": "white",
                    "plot_bgcolor": "#E5ECF6",
                    "polar": {
                      "angularaxis": {
                        "gridcolor": "white",
                        "linecolor": "white",
                        "ticks": ""
                      },
                      "bgcolor": "#E5ECF6",
                      "radialaxis": {
                        "gridcolor": "white",
                        "linecolor": "white",
                        "ticks": ""
                      }
                    },
                    "scene": {
                      "xaxis": {
                        "backgroundcolor": "#E5ECF6",
                        "gridcolor": "white",
                        "gridwidth": 2,
                        "linecolor": "white",
                        "showbackground": true,
                        "ticks": "",
                        "zerolinecolor": "white"
                      },
                      "yaxis": {
                        "backgroundcolor": "#E5ECF6",
                        "gridcolor": "white",
                        "gridwidth": 2,
                        "linecolor": "white",
                        "showbackground": true,
                        "ticks": "",
                        "zerolinecolor": "white"
                      },
                      "zaxis": {
                        "backgroundcolor": "#E5ECF6",
                        "gridcolor": "white",
                        "gridwidth": 2,
                        "linecolor": "white",
                        "showbackground": true,
                        "ticks": "",
                        "zerolinecolor": "white"
                      }
                    },
                    "shapedefaults": {
                      "line": {
                        "color": "#2a3f5f"
                      }
                    },
                    "ternary": {
                      "aaxis": {
                        "gridcolor": "white",
                        "linecolor": "white",
                        "ticks": ""
                      },
                      "baxis": {
                        "gridcolor": "white",
                        "linecolor": "white",
                        "ticks": ""
                      },
                      "bgcolor": "#E5ECF6",
                      "caxis": {
                        "gridcolor": "white",
                        "linecolor": "white",
                        "ticks": ""
                      }
                    },
                    "title": {
                      "x": 0.05
                    },
                    "xaxis": {
                      "automargin": true,
                      "gridcolor": "white",
                      "linecolor": "white",
                      "ticks": "",
                      "title": {
                        "standoff": 15
                      },
                      "zerolinecolor": "white",
                      "zerolinewidth": 2
                    },
                    "yaxis": {
                      "automargin": true,
                      "gridcolor": "white",
                      "linecolor": "white",
                      "ticks": "",
                      "title": {
                        "standoff": 15
                      },
                      "zerolinecolor": "white",
                      "zerolinewidth": 2
                    }
                  }
                }
              }
            }
          },
          "metadata": {},
          "output_type": "display_data"
        }
      ],
      "source": [
        "# Lets see which model perform better visually!\n",
        "\n",
        "# set heights of bars\n",
        "bars1 = [acc_ANN_IE , acc_ANN_NS , acc_ANN_TF , acc_ANN_JP, mean_acc_ann, act_acc_ann]\n",
        "bars2 = [acc_random_forest_IE , acc_random_forest_NS , acc_random_forest_TF , acc_random_forest_JP, mean_acc_random_forest, act_rf_ann]\n",
        "bars3 = [acc_knn_IE , acc_knn_NS , acc_knn_TF , acc_knn_JP, mean_acc_knn, act_knn_ann]\n",
        "bars4 = [acc_log_IE , acc_log_NS , acc_log_TF , acc_log_JP, mean_acc_log, act_log_ann]\n",
        "bars5 = [acc_nb_IE , acc_nb_NS , acc_nb_TF , acc_nb_JP, mean_acc_gnb, act_nb_ann]\n",
        "bars6 = [acc_svc_IE , acc_svc_NS , acc_svc_TF , acc_svc_JP, mean_acc_svc, act_svc_ann]\n",
        "\n",
        "x = ['I-E', 'N-S', 'T-F', 'J-P', 'mean', 'actual']\n",
        "  \n",
        "plot = px.Figure(data=[\n",
        "    go.Bar(name = 'ANN', x = x, y = bars1),\n",
        "    go.Bar(name = 'Random Forest', x = x, y = bars2),\n",
        "    go.Bar(name = 'KNN', x = x, y = bars3),\n",
        "    go.Bar(name = 'Logistic Regression', x = x, y = bars4),\n",
        "    go.Bar(name = 'Naive Bayes', x = x, y = bars5),\n",
        "    go.Bar(name = 'SVM', x = x, y = bars6),\n",
        "])\n",
        "                   \n",
        "plot.show()"
      ]
    },
    {
      "cell_type": "markdown",
      "metadata": {
        "id": "J39OzjWI_Eyu"
      },
      "source": [
        "## Notes\n",
        " - Now Accuracy is much better for each class"
      ]
    }
  ],
  "metadata": {
    "colab": {
      "collapsed_sections": [],
      "name": "MBTI_Project (2).ipynb",
      "provenance": []
    },
    "interpreter": {
      "hash": "7812ea015bdcee6f23a998adcdd2ef97c151c0c241b7b7070987d9313e41299d"
    },
    "kernelspec": {
      "display_name": "Python 3.9.0 64-bit",
      "language": "python",
      "name": "python3"
    },
    "language_info": {
      "codemirror_mode": {
        "name": "ipython",
        "version": 3
      },
      "file_extension": ".py",
      "mimetype": "text/x-python",
      "name": "python",
      "nbconvert_exporter": "python",
      "pygments_lexer": "ipython3",
      "version": "3.9.7"
    },
    "orig_nbformat": 4
  },
  "nbformat": 4,
  "nbformat_minor": 0
}
